{
 "cells": [
  {
   "cell_type": "code",
   "execution_count": 15,
   "metadata": {},
   "outputs": [],
   "source": [
    "import argparse\n",
    "\n",
    "import coremltools\n",
    "from train_utils import load_label"
   ]
  },
  {
   "cell_type": "code",
   "execution_count": 23,
   "metadata": {},
   "outputs": [
    {
     "name": "stdout",
     "output_type": "stream",
     "text": [
      "{'Deaf': 1, 'Green': 2, 'Opaque': 3, 'Water': 4}\n",
      "0 : lstm_9_input, <keras.engine.input_layer.InputLayer object at 0x7f9d6ecd3be0>\n",
      "1 : lstm_9, <keras.layers.recurrent.LSTM object at 0x7f9d6ecd32b0>\n",
      "2 : lstm_10, <keras.layers.recurrent.LSTM object at 0x7f9d641b15c0>\n",
      "3 : lstm_11, <keras.layers.recurrent.LSTM object at 0x7f9d64053940>\n",
      "4 : lstm_12, <keras.layers.recurrent.LSTM object at 0x7f9d63dc5128>\n",
      "5 : dense_3, <keras.layers.core.Dense object at 0x7f9d641b1898>\n",
      "6 : dense_3__activation__, <keras.layers.core.Activation object at 0x7f9d637eb4a8>\n",
      "\n",
      "\n",
      "Recommendation: This model has at least one multiarray input/output of type double.\n",
      "For large sized arrays, multiarrays of type float32 are more efficient.\n",
      "In future, float input/output multiarrays will be produced by default by the converter.\n",
      "Please use, either the flag 'use_float_arraytype' during the call to convert or\n",
      "the utility 'coremltools.utils.convert_double_to_float_multiarray_type(spec)', post-conversion.\n",
      "\n",
      "\n"
     ]
    }
   ],
   "source": [
    "    # Hyper-parameters\n",
    "    batch_size = 16\n",
    "    epochs = 50\n",
    "    model = \"data/model.h5\"\n",
    "    \n",
    "    labels = load_label()\n",
    "    print(labels)\n",
    "\n",
    "    model = coremltools.converters.keras.convert(\n",
    "        model,\n",
    "        output_names=['output'],\n",
    "        input_names=['input'],\n",
    "        class_labels=['Deaf', 'Green', 'Opaque', 'Water'])\n",
    "    \n",
    "    spec = model.get_spec()\n",
    "    coremltools.utils.convert_double_to_float_multiarray_type(spec)\n",
    "    mlmodel = coremltools.models.MLModel(spec)\n",
    "\n",
    "    mlmodel.author = 'Do Long Thanh'\n",
    "    mlmodel.license = 'MIT'\n",
    "    mlmodel.version = \"0.1\"\n",
    "    mlmodel.short_description = 'Sign language recognition with RNN'\n",
    "    mlmodel.input_description['input'] = 'Lorem ipsum'\n",
    "    mlmodel.output_description['output'] = 'Sign language output'\n",
    "    mlmodel.output_description['classLabel'] = 'Labels of signs'\n",
    "\n",
    "    mlmodel.save('data/SignClassifier.mlmodel')"
   ]
  },
  {
   "cell_type": "raw",
   "metadata": {},
   "source": []
  }
 ],
 "metadata": {
  "kernelspec": {
   "display_name": "Python 3",
   "language": "python",
   "name": "python3"
  },
  "language_info": {
   "codemirror_mode": {
    "name": "ipython",
    "version": 3
   },
   "file_extension": ".py",
   "mimetype": "text/x-python",
   "name": "python",
   "nbconvert_exporter": "python",
   "pygments_lexer": "ipython3",
   "version": "3.6.9"
  }
 },
 "nbformat": 4,
 "nbformat_minor": 2
}
